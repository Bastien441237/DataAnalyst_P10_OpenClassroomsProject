{
 "cells": [
  {
   "cell_type": "markdown",
   "id": "e9f9dd8b",
   "metadata": {},
   "source": [
    "# Application finale : Prédictions Vrais/ Faux billets"
   ]
  },
  {
   "cell_type": "code",
   "execution_count": 1,
   "id": "9848167b",
   "metadata": {},
   "outputs": [],
   "source": [
    "import pandas as pd\n",
    "import numpy as np\n",
    "import pickle\n",
    "import ipywidgets as widgets\n",
    "from IPython.display import display, FileLink, HTML, clear_output\n",
    "import io\n",
    "from sklearn.preprocessing import StandardScaler\n",
    "\n",
    "# Ignorer tous les avertissements\n",
    "import warnings\n",
    "warnings.filterwarnings(\"ignore\")"
   ]
  },
  {
   "cell_type": "code",
   "execution_count": 2,
   "id": "356575b3",
   "metadata": {},
   "outputs": [],
   "source": [
    "# Charger le modèle de régression linéaire à partir du fichier pickle\n",
    "with open('modele_RegLog.pickle', 'rb') as file:\n",
    "    modele_RegLog = pickle.load(file)\n",
    "    \n",
    "# Charger le modèle du KMeans à partir du fichier pickle\n",
    "with open('modele_Kmeans.pickle', 'rb') as file:\n",
    "    modele_Kmeans = pickle.load(file)\n",
    "    \n",
    "# Charger 'sélection' à partir du fichier pickle\n",
    "with open('selection.pickle', 'rb') as file:\n",
    "    selection = pickle.load(file)\n",
    "    \n",
    "# Charger le dictionnaire d'identification des clusters KMeans à partir du fichier pickle\n",
    "with open('id_Kmeans.pickle', 'rb') as file:\n",
    "    clusters = pickle.load(file)"
   ]
  },
  {
   "cell_type": "code",
   "execution_count": 3,
   "id": "2c52f25c",
   "metadata": {
    "scrolled": false
   },
   "outputs": [
    {
     "data": {
      "application/vnd.jupyter.widget-view+json": {
       "model_id": "f55440f4126c46dca9f662e3559f90cd",
       "version_major": 2,
       "version_minor": 0
      },
      "text/plain": [
       "Dropdown(description='Modèle : ', options=('Modèle de régression logistique', 'Modèle du KMeans'), value='Modè…"
      ]
     },
     "metadata": {},
     "output_type": "display_data"
    },
    {
     "data": {
      "text/html": [
       "<p>Choisissez un fichier CSV à charger :</p>"
      ],
      "text/plain": [
       "<IPython.core.display.HTML object>"
      ]
     },
     "metadata": {},
     "output_type": "display_data"
    },
    {
     "data": {
      "application/vnd.jupyter.widget-view+json": {
       "model_id": "059fad04bf3d40979d7920c3e18e3ade",
       "version_major": 2,
       "version_minor": 0
      },
      "text/plain": [
       "FileUpload(value=(), accept='.csv', description='Upload')"
      ]
     },
     "metadata": {},
     "output_type": "display_data"
    },
    {
     "data": {
      "application/vnd.jupyter.widget-view+json": {
       "model_id": "baae8983e149422f83a895357417e56a",
       "version_major": 2,
       "version_minor": 0
      },
      "text/plain": [
       "Output()"
      ]
     },
     "metadata": {},
     "output_type": "display_data"
    }
   ],
   "source": [
    "# Créer les widgets FileUpload et Dropdown\n",
    "upload = widgets.FileUpload(accept='.csv')\n",
    "choix = widgets.Dropdown(options=['Modèle de régression logistique', 'Modèle du KMeans'], \n",
    "                         value='Modèle de régression logistique', description='Modèle : ', disabled=False)\n",
    "\n",
    "# Créer un conteneur pour afficher le DataFrame\n",
    "output = widgets.Output()\n",
    "\n",
    "def fichier_upload(change):\n",
    "    # Vérifier si le fichier a été chargé\n",
    "    if len(upload.value) > 0:\n",
    "        # Lire les informations du fichier \n",
    "        file_info = upload.value[0]\n",
    "        # Lire le Dataframe et mettre les 'id' des billets en index\n",
    "        df = pd.read_csv(io.BytesIO(file_info['content']), index_col='id')\n",
    "        # Afficher le DataFrame dans le conteneur\n",
    "        with output:\n",
    "            if choix.value == 'Modèle de régression logistique':\n",
    "                # X matrice des données avec les variables sélectionnées\n",
    "                selected_column_indices = [df.columns.get_loc(col) for col in df.columns[selection]]\n",
    "                X = df.iloc[:, selected_column_indices]\n",
    "                # Prédictions avec le modèle entraîné choisi\n",
    "                predictions = modele_RegLog.predict(X)\n",
    "                # Rajout de la colonne 'Prédictions'\n",
    "                df['Prediction'] = np.where(predictions == 1, 'Vrai billet', 'Faux billet')\n",
    "                # Calcul des probabilités\n",
    "                probabilités = modele_RegLog.predict_proba(X)\n",
    "                # Rajout de la colonne d'indice de confiance\n",
    "                df['Indice de confiance'] = np.max(probabilités, axis=1)\n",
    "                # Afficher le dataframe avec les prédictions\n",
    "                display(df)\n",
    "                # Créer le bouton \"Download\" seulement lorsque le DataFrame est affiché\n",
    "                download_button = widgets.Button(description=\"Download\")\n",
    "                # Lier la fonction fichier_download au clic sur le bouton \"Download\"\n",
    "                download_button.on_click(lambda x: fichier_download(df))\n",
    "                display(download_button)\n",
    "            elif choix.value == 'Modèle du KMeans':\n",
    "                # X matrice des données\n",
    "                X = df.values\n",
    "                # Il faut scaller les données car le modèle a été entraîné avec des données centrées et réduites\n",
    "                scaler = StandardScaler()\n",
    "                scaler.fit(X)\n",
    "                X_scaled = scaler.transform(X)\n",
    "                # Prédictions avec le modèle entraîné choisi\n",
    "                predictions = modele_Kmeans.predict(X_scaled)\n",
    "                # Rajout de la colonne 'Prédictions'\n",
    "                df['Prediction'] = predictions\n",
    "                # Identification des clusters\n",
    "                df['Prediction'] = df['Prediction'].map(clusters)\n",
    "                # Changer le type de donnée par l'affichage souhaité \n",
    "                df['Prediction'] = np.where(df['Prediction'] == 1, 'Vrai billet', 'Faux billet')\n",
    "                # Afficher le dataframe avec les prédictions\n",
    "                display(df)\n",
    "                # Créer le bouton \"Download\" seulement lorsque le DataFrame est affiché\n",
    "                download_button = widgets.Button(description=\"Download\")\n",
    "                # Lier la fonction fichier_download au clic sur le bouton \"Download\"\n",
    "                download_button.on_click(lambda x: fichier_download(df))\n",
    "                display(download_button)\n",
    "\n",
    "# Créer une fonction pour afficher le bouton DL\n",
    "def fichier_download(df):\n",
    "    if choix.value == 'Modèle de régression logistique':\n",
    "        # Sauvegarder le DataFrame avec les prédictions et l'indice de confiance dans un fichier CSV\n",
    "        df.to_csv('billets_predictions_Regression_Logistique.csv', sep = '\\t', index=True)\n",
    "        # Créer le lien de téléchargement\n",
    "        download_link = FileLink('billets_predictions_Regression_Logistique.csv', \n",
    "                                 result_html_prefix=\"Cliquez ici pour télécharger : \")\n",
    "        display(download_link)\n",
    "    elif choix.value == 'Modèle du KMeans':\n",
    "        # Sauvegarder le DataFrame avec les prédictions et l'indice de confiance dans un fichier CSV\n",
    "        df.to_csv('billets_predictions_KMeans.csv', sep = '\\t', index=True)\n",
    "        # Créer le lien de téléchargement\n",
    "        download_link = FileLink('billets_predictions_KMeans.csv', \n",
    "                                 result_html_prefix=\"Cliquez ici pour télécharger : \")\n",
    "        display(download_link)\n",
    "        \n",
    "# Créer une fonction de réinitialisation\n",
    "def reinitialiser_widget(btn):\n",
    "    # Effacer le fichier chargé précédemment\n",
    "    upload.value = ()\n",
    "    # Effacer le DataFrame affiché précédemment\n",
    "    output.clear_output()\n",
    "\n",
    "# Lier la fonction fichier_upload au chargement du fichier\n",
    "upload.observe(fichier_upload, names='value')\n",
    "\n",
    "# Lier la fonction de réinitialisation à l'événement de changement du dropdown\n",
    "choix.observe(reinitialiser_widget, names='value')\n",
    "\n",
    "# Afficher le widget 'choix'\n",
    "display(choix)\n",
    "\n",
    "# Ajouter un commentaire devant le bouton \"Upload\"\n",
    "upload_comment = HTML('<p>Choisissez un fichier CSV à charger :</p>')\n",
    "display(upload_comment)\n",
    "\n",
    "# Afficher le widget 'upload'\n",
    "display(upload)\n",
    "\n",
    "# Afficher le conteneur pour le DataFrame\n",
    "display(output)"
   ]
  }
 ],
 "metadata": {
  "kernelspec": {
   "display_name": "Python 3 (ipykernel)",
   "language": "python",
   "name": "python3"
  },
  "language_info": {
   "codemirror_mode": {
    "name": "ipython",
    "version": 3
   },
   "file_extension": ".py",
   "mimetype": "text/x-python",
   "name": "python",
   "nbconvert_exporter": "python",
   "pygments_lexer": "ipython3",
   "version": "3.9.16"
  }
 },
 "nbformat": 4,
 "nbformat_minor": 5
}
